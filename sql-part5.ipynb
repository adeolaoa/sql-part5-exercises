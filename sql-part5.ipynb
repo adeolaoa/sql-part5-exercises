{
    "metadata": {
        "kernelspec": {
            "name": "SQL",
            "display_name": "SQL",
            "language": "sql"
        },
        "language_info": {
            "name": "sql",
            "version": ""
        }
    },
    "nbformat_minor": 2,
    "nbformat": 4,
    "cells": [
        {
            "cell_type": "markdown",
            "source": [
                "# Exercises: Creating, Updating, and Destroying Objects\n",
                "\n",
                "For the exercises, you will be working with objects and data you create. Before opening this notebook, make sure that you have set up the new connection to the server and that you have located the database and your schema.\n",
                "\n",
                "## Object Creation\n",
                "\n",
                "Before coding, think of three things you want to make. These could be coding projects, new recipes, or planned projects for a woodworking hobby. Brainstorm the appropriate column names and data types as well.\n",
                "\n",
                "Create a table under your schema called `planned_makes`."
            ],
            "metadata": {
                "azdata_cell_guid": "9d51c166-0c19-4f27-a422-2a6cf596bfb2"
            },
            "attachments": {}
        },
        {
            "cell_type": "code",
            "source": [
                "CREATE TABLE JunkDB_KC.Adeola.planned_makes (\n",
                "    Names VARCHAR(50),\n",
                "    Courses VARCHAR(50),\n",
                "    Grades INT,\n",
                "    Year VARCHAR(50)\n",
                ");"
            ],
            "metadata": {
                "azdata_cell_guid": "d9238911-6f81-4f01-980d-b584307effaf",
                "language": "sql"
            },
            "outputs": [
                {
                    "output_type": "error",
                    "evalue": "Msg 2714, Level 16, State 6, Line 1\nThere is already an object named 'planned_makes' in the database.",
                    "ename": "",
                    "traceback": []
                },
                {
                    "output_type": "display_data",
                    "data": {
                        "text/html": "Total execution time: 00:00:00.057"
                    },
                    "metadata": {}
                }
            ],
            "execution_count": 4
        },
        {
            "cell_type": "markdown",
            "source": [
                "Add three rows to your table that are your planned makes."
            ],
            "metadata": {
                "azdata_cell_guid": "83cdf34d-8c4f-4fa1-a14e-77384b19d734"
            }
        },
        {
            "cell_type": "code",
            "source": [
                "INSERT INTO JunkDB_KC.Adeola.planned_makes(Names, Courses, Grades, Year)\n",
                "VALUES  ('Jeniffer', 'Physics', 95, '2nd'),\n",
                "        ('Alex', 'Biology', 85, '1st'),\n",
                "        ('Ashley', 'Chemistry', 90, '3rd');\n",
                ""
            ],
            "metadata": {
                "azdata_cell_guid": "e7cff9cb-87ba-4c7b-98f2-eaf445e8719c",
                "language": "sql",
                "tags": []
            },
            "outputs": [
                {
                    "output_type": "display_data",
                    "data": {
                        "text/html": "(3 rows affected)"
                    },
                    "metadata": {}
                },
                {
                    "output_type": "display_data",
                    "data": {
                        "text/html": "(10 rows affected)"
                    },
                    "metadata": {}
                },
                {
                    "output_type": "display_data",
                    "data": {
                        "text/html": "Total execution time: 00:00:00.061"
                    },
                    "metadata": {}
                },
                {
                    "output_type": "execute_result",
                    "metadata": {},
                    "execution_count": 9,
                    "data": {
                        "application/vnd.dataresource+json": {
                            "schema": {
                                "fields": [
                                    {
                                        "name": "Names"
                                    },
                                    {
                                        "name": "Courses"
                                    },
                                    {
                                        "name": "Grades"
                                    },
                                    {
                                        "name": "Year"
                                    }
                                ]
                            },
                            "data": [
                                {
                                    "0": "Jeniffer",
                                    "1": "Physics",
                                    "2": "95",
                                    "3": "2nd"
                                },
                                {
                                    "0": "Jeniffer",
                                    "1": "Physics",
                                    "2": "95",
                                    "3": "2nd"
                                },
                                {
                                    "0": "Alex",
                                    "1": "Biology",
                                    "2": "85",
                                    "3": "1st"
                                },
                                {
                                    "0": "Ashley",
                                    "1": "Chemistry",
                                    "2": "90",
                                    "3": "3rd"
                                },
                                {
                                    "0": "Jeniffer",
                                    "1": "Physics",
                                    "2": "95",
                                    "3": "2nd"
                                },
                                {
                                    "0": "Alex",
                                    "1": "Biology",
                                    "2": "85",
                                    "3": "1st"
                                },
                                {
                                    "0": "Ashley",
                                    "1": "Chemistry",
                                    "2": "90",
                                    "3": "3rd"
                                },
                                {
                                    "0": "Jeniffer",
                                    "1": "Physics",
                                    "2": "95",
                                    "3": "2nd"
                                },
                                {
                                    "0": "Alex",
                                    "1": "Biology",
                                    "2": "85",
                                    "3": "1st"
                                },
                                {
                                    "0": "Ashley",
                                    "1": "Chemistry",
                                    "2": "90",
                                    "3": "3rd"
                                }
                            ]
                        },
                        "text/html": [
                            "<table>",
                            "<tr><th>Names</th><th>Courses</th><th>Grades</th><th>Year</th></tr>",
                            "<tr><td>Jeniffer</td><td>Physics</td><td>95</td><td>2nd</td></tr>",
                            "<tr><td>Jeniffer</td><td>Physics</td><td>95</td><td>2nd</td></tr>",
                            "<tr><td>Alex</td><td>Biology</td><td>85</td><td>1st</td></tr>",
                            "<tr><td>Ashley</td><td>Chemistry</td><td>90</td><td>3rd</td></tr>",
                            "<tr><td>Jeniffer</td><td>Physics</td><td>95</td><td>2nd</td></tr>",
                            "<tr><td>Alex</td><td>Biology</td><td>85</td><td>1st</td></tr>",
                            "<tr><td>Ashley</td><td>Chemistry</td><td>90</td><td>3rd</td></tr>",
                            "<tr><td>Jeniffer</td><td>Physics</td><td>95</td><td>2nd</td></tr>",
                            "<tr><td>Alex</td><td>Biology</td><td>85</td><td>1st</td></tr>",
                            "<tr><td>Ashley</td><td>Chemistry</td><td>90</td><td>3rd</td></tr>",
                            "</table>"
                        ]
                    }
                }
            ],
            "execution_count": 9
        },
        {
            "cell_type": "markdown",
            "source": [
                "Change column data type"
            ],
            "metadata": {
                "language": "sql",
                "azdata_cell_guid": "6db97646-f67f-4652-877a-76df03c6f107"
            },
            "attachments": {}
        },
        {
            "cell_type": "code",
            "source": [
                "ALTER TABLE JunkDB_KC.Adeola.planned_makes\n",
                "  ALTER COLUMN Grades VARCHAR(3) NOT NULL;\n",
                "  \n",
                "  SELECT *\n",
                "  FROM JunkDB_KC.Adeola.planned_makes;\n",
                "\n",
                " "
            ],
            "metadata": {
                "language": "sql",
                "azdata_cell_guid": "56a03d59-0236-4e07-b219-66cb80392db1",
                "tags": []
            },
            "outputs": [
                {
                    "output_type": "display_data",
                    "data": {
                        "text/html": "(10 rows affected)"
                    },
                    "metadata": {}
                },
                {
                    "output_type": "display_data",
                    "data": {
                        "text/html": "Total execution time: 00:00:00.179"
                    },
                    "metadata": {}
                },
                {
                    "output_type": "execute_result",
                    "metadata": {},
                    "execution_count": 15,
                    "data": {
                        "application/vnd.dataresource+json": {
                            "schema": {
                                "fields": [
                                    {
                                        "name": "Names"
                                    },
                                    {
                                        "name": "Courses"
                                    },
                                    {
                                        "name": "Grades"
                                    },
                                    {
                                        "name": "Year"
                                    }
                                ]
                            },
                            "data": [
                                {
                                    "0": "Jeniffer",
                                    "1": "Physics",
                                    "2": "95",
                                    "3": "2nd"
                                },
                                {
                                    "0": "Jeniffer",
                                    "1": "Physics",
                                    "2": "95",
                                    "3": "2nd"
                                },
                                {
                                    "0": "Alex",
                                    "1": "Biology",
                                    "2": "85",
                                    "3": "1st"
                                },
                                {
                                    "0": "Ashley",
                                    "1": "Chemistry",
                                    "2": "90",
                                    "3": "3rd"
                                },
                                {
                                    "0": "Jeniffer",
                                    "1": "Physics",
                                    "2": "95",
                                    "3": "2nd"
                                },
                                {
                                    "0": "Alex",
                                    "1": "Biology",
                                    "2": "85",
                                    "3": "1st"
                                },
                                {
                                    "0": "Ashley",
                                    "1": "Chemistry",
                                    "2": "90",
                                    "3": "3rd"
                                },
                                {
                                    "0": "Jeniffer",
                                    "1": "Physics",
                                    "2": "95",
                                    "3": "2nd"
                                },
                                {
                                    "0": "Alex",
                                    "1": "Biology",
                                    "2": "85",
                                    "3": "1st"
                                },
                                {
                                    "0": "Ashley",
                                    "1": "Chemistry",
                                    "2": "90",
                                    "3": "3rd"
                                }
                            ]
                        },
                        "text/html": [
                            "<table>",
                            "<tr><th>Names</th><th>Courses</th><th>Grades</th><th>Year</th></tr>",
                            "<tr><td>Jeniffer</td><td>Physics</td><td>95</td><td>2nd</td></tr>",
                            "<tr><td>Jeniffer</td><td>Physics</td><td>95</td><td>2nd</td></tr>",
                            "<tr><td>Alex</td><td>Biology</td><td>85</td><td>1st</td></tr>",
                            "<tr><td>Ashley</td><td>Chemistry</td><td>90</td><td>3rd</td></tr>",
                            "<tr><td>Jeniffer</td><td>Physics</td><td>95</td><td>2nd</td></tr>",
                            "<tr><td>Alex</td><td>Biology</td><td>85</td><td>1st</td></tr>",
                            "<tr><td>Ashley</td><td>Chemistry</td><td>90</td><td>3rd</td></tr>",
                            "<tr><td>Jeniffer</td><td>Physics</td><td>95</td><td>2nd</td></tr>",
                            "<tr><td>Alex</td><td>Biology</td><td>85</td><td>1st</td></tr>",
                            "<tr><td>Ashley</td><td>Chemistry</td><td>90</td><td>3rd</td></tr>",
                            "</table>"
                        ]
                    }
                }
            ],
            "execution_count": 15
        },
        {
            "cell_type": "markdown",
            "source": [
                "## Update a Row\n",
                "\n",
                "Change different values in one of your three rows."
            ],
            "metadata": {
                "azdata_cell_guid": "4a39b8d4-ae97-4e09-8336-c5fc6a00d76c"
            },
            "attachments": {}
        },
        {
            "cell_type": "code",
            "source": [
                "UPDATE JunkDB_KC.Adeola.planned_makes\n",
                "SET Grades = 'A'\n",
                "WHERE Names = 'Jeniffer' AND  Names =  'Ashley';\n",
                "\n",
                "UPDATE JunkDB_KC.Adeola.planned_makes\n",
                "SET Grades = 'A'\n",
                "WHERE  Names =  'Ashley';\n",
                "\n",
                "UPDATE JunkDB_KC.Adeola.planned_makes\n",
                "SET Grades = 'B'\n",
                "WHERE Names = 'Alex';\n",
                "\n",
                "SELECT * \n",
                "FROM JunkDB_KC.Adeola.planned_makes"
            ],
            "metadata": {
                "azdata_cell_guid": "7409c695-9581-4ad8-b03a-574d2c4c87cb",
                "language": "sql"
            },
            "outputs": [
                {
                    "output_type": "display_data",
                    "data": {
                        "text/html": "(0 rows affected)"
                    },
                    "metadata": {}
                },
                {
                    "output_type": "display_data",
                    "data": {
                        "text/html": "(3 rows affected)"
                    },
                    "metadata": {}
                },
                {
                    "output_type": "display_data",
                    "data": {
                        "text/html": "(3 rows affected)"
                    },
                    "metadata": {}
                },
                {
                    "output_type": "display_data",
                    "data": {
                        "text/html": "(10 rows affected)"
                    },
                    "metadata": {}
                },
                {
                    "output_type": "display_data",
                    "data": {
                        "text/html": "Total execution time: 00:00:00.083"
                    },
                    "metadata": {}
                },
                {
                    "output_type": "execute_result",
                    "metadata": {},
                    "execution_count": 22,
                    "data": {
                        "application/vnd.dataresource+json": {
                            "schema": {
                                "fields": [
                                    {
                                        "name": "Names"
                                    },
                                    {
                                        "name": "Courses"
                                    },
                                    {
                                        "name": "Grades"
                                    },
                                    {
                                        "name": "Year"
                                    }
                                ]
                            },
                            "data": [
                                {
                                    "0": "Jeniffer",
                                    "1": "Physics",
                                    "2": "A",
                                    "3": "2nd"
                                },
                                {
                                    "0": "Jeniffer",
                                    "1": "Physics",
                                    "2": "A",
                                    "3": "2nd"
                                },
                                {
                                    "0": "Alex",
                                    "1": "Biology",
                                    "2": "B",
                                    "3": "1st"
                                },
                                {
                                    "0": "Ashley",
                                    "1": "Chemistry",
                                    "2": "A",
                                    "3": "3rd"
                                },
                                {
                                    "0": "Jeniffer",
                                    "1": "Physics",
                                    "2": "A",
                                    "3": "2nd"
                                },
                                {
                                    "0": "Alex",
                                    "1": "Biology",
                                    "2": "B",
                                    "3": "1st"
                                },
                                {
                                    "0": "Ashley",
                                    "1": "Chemistry",
                                    "2": "A",
                                    "3": "3rd"
                                },
                                {
                                    "0": "Jeniffer",
                                    "1": "Physics",
                                    "2": "A",
                                    "3": "2nd"
                                },
                                {
                                    "0": "Alex",
                                    "1": "Biology",
                                    "2": "B",
                                    "3": "1st"
                                },
                                {
                                    "0": "Ashley",
                                    "1": "Chemistry",
                                    "2": "A",
                                    "3": "3rd"
                                }
                            ]
                        },
                        "text/html": [
                            "<table>",
                            "<tr><th>Names</th><th>Courses</th><th>Grades</th><th>Year</th></tr>",
                            "<tr><td>Jeniffer</td><td>Physics</td><td>A</td><td>2nd</td></tr>",
                            "<tr><td>Jeniffer</td><td>Physics</td><td>A</td><td>2nd</td></tr>",
                            "<tr><td>Alex</td><td>Biology</td><td>B</td><td>1st</td></tr>",
                            "<tr><td>Ashley</td><td>Chemistry</td><td>A</td><td>3rd</td></tr>",
                            "<tr><td>Jeniffer</td><td>Physics</td><td>A</td><td>2nd</td></tr>",
                            "<tr><td>Alex</td><td>Biology</td><td>B</td><td>1st</td></tr>",
                            "<tr><td>Ashley</td><td>Chemistry</td><td>A</td><td>3rd</td></tr>",
                            "<tr><td>Jeniffer</td><td>Physics</td><td>A</td><td>2nd</td></tr>",
                            "<tr><td>Alex</td><td>Biology</td><td>B</td><td>1st</td></tr>",
                            "<tr><td>Ashley</td><td>Chemistry</td><td>A</td><td>3rd</td></tr>",
                            "</table>"
                        ]
                    }
                }
            ],
            "execution_count": 22
        },
        {
            "cell_type": "markdown",
            "source": [
                "## Delete a Row\n",
                "\n",
                "Delete one of the rows from your table."
            ],
            "metadata": {
                "azdata_cell_guid": "95e91a6e-9038-42d9-9401-5738842aba17"
            }
        },
        {
            "cell_type": "code",
            "source": [
                "DELETE JunkDB_KC.Adeola.planned_makes\n",
                "WHERE Names = 'Jeniffer';\n",
                "\n",
                "SELECT * \n",
                "FROM JunkDB_KC.Adeola.planned_makes;"
            ],
            "metadata": {
                "azdata_cell_guid": "749c748f-19b5-4c69-9004-b6b20216616a",
                "language": "sql"
            },
            "outputs": [
                {
                    "output_type": "display_data",
                    "data": {
                        "text/html": "(4 rows affected)"
                    },
                    "metadata": {}
                },
                {
                    "output_type": "display_data",
                    "data": {
                        "text/html": "(6 rows affected)"
                    },
                    "metadata": {}
                },
                {
                    "output_type": "display_data",
                    "data": {
                        "text/html": "Total execution time: 00:00:00.060"
                    },
                    "metadata": {}
                },
                {
                    "output_type": "execute_result",
                    "metadata": {},
                    "execution_count": 27,
                    "data": {
                        "application/vnd.dataresource+json": {
                            "schema": {
                                "fields": [
                                    {
                                        "name": "Names"
                                    },
                                    {
                                        "name": "Courses"
                                    },
                                    {
                                        "name": "Grades"
                                    },
                                    {
                                        "name": "Year"
                                    }
                                ]
                            },
                            "data": [
                                {
                                    "0": "Alex",
                                    "1": "Biology",
                                    "2": "B",
                                    "3": "1st"
                                },
                                {
                                    "0": "Ashley",
                                    "1": "Chemistry",
                                    "2": "A",
                                    "3": "3rd"
                                },
                                {
                                    "0": "Alex",
                                    "1": "Biology",
                                    "2": "B",
                                    "3": "1st"
                                },
                                {
                                    "0": "Ashley",
                                    "1": "Chemistry",
                                    "2": "A",
                                    "3": "3rd"
                                },
                                {
                                    "0": "Alex",
                                    "1": "Biology",
                                    "2": "B",
                                    "3": "1st"
                                },
                                {
                                    "0": "Ashley",
                                    "1": "Chemistry",
                                    "2": "A",
                                    "3": "3rd"
                                }
                            ]
                        },
                        "text/html": [
                            "<table>",
                            "<tr><th>Names</th><th>Courses</th><th>Grades</th><th>Year</th></tr>",
                            "<tr><td>Alex</td><td>Biology</td><td>B</td><td>1st</td></tr>",
                            "<tr><td>Ashley</td><td>Chemistry</td><td>A</td><td>3rd</td></tr>",
                            "<tr><td>Alex</td><td>Biology</td><td>B</td><td>1st</td></tr>",
                            "<tr><td>Ashley</td><td>Chemistry</td><td>A</td><td>3rd</td></tr>",
                            "<tr><td>Alex</td><td>Biology</td><td>B</td><td>1st</td></tr>",
                            "<tr><td>Ashley</td><td>Chemistry</td><td>A</td><td>3rd</td></tr>",
                            "</table>"
                        ]
                    }
                }
            ],
            "execution_count": 27
        },
        {
            "cell_type": "markdown",
            "source": [
                "## Drop the Table\n",
                "\n",
                "While this has been fun, it is time to drop the table!"
            ],
            "metadata": {
                "azdata_cell_guid": "2239cb09-137b-4579-905b-1aa020793181"
            },
            "attachments": {}
        },
        {
            "cell_type": "code",
            "source": [
                "DROP TABLE JunkDB_KC.Adeola.planned_makes;\n",
                "\n",
                ""
            ],
            "metadata": {
                "azdata_cell_guid": "b3c7f6ea-ee26-46b3-9c2a-2f7a82c39699",
                "language": "sql"
            },
            "outputs": [
                {
                    "output_type": "error",
                    "evalue": "Msg 3701, Level 11, State 5, Line 1\nCannot drop the table 'JunkDB_KC.Adeola.planned_makes', because it does not exist or you do not have permission.",
                    "ename": "",
                    "traceback": []
                },
                {
                    "output_type": "display_data",
                    "data": {
                        "text/html": "Total execution time: 00:00:00.048"
                    },
                    "metadata": {}
                }
            ],
            "execution_count": 31
        }
    ]
}